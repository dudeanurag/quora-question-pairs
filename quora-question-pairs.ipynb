{
 "cells": [
  {
   "cell_type": "code",
   "execution_count": 1,
   "metadata": {},
   "outputs": [
    {
     "name": "stderr",
     "output_type": "stream",
     "text": [
      "Using TensorFlow backend.\n"
     ]
    }
   ],
   "source": [
    "import pandas as pd\n",
    "import numpy as np\n",
    "import keras\n",
    "from keras.layers import Embedding, Input, LSTM, Dense, Subtract\n",
    "from keras.models import Model\n",
    "from keras.preprocessing import text\n",
    "from keras.preprocessing.sequence import pad_sequences"
   ]
  },
  {
   "cell_type": "code",
   "execution_count": 6,
   "metadata": {},
   "outputs": [
    {
     "name": "stdout",
     "output_type": "stream",
     "text": [
      "Total number of train samples: 404290\n",
      "Total number of test samples: 2345796\n"
     ]
    }
   ],
   "source": [
    "train_data = pd.read_csv('train.csv')\n",
    "test_data = pd.read_csv('test.csv')\n",
    "train_data.fillna(\"0\", inplace=True)\n",
    "test_data.fillna(\"0\", inplace=True)\n",
    "num_samples_train = len(train_data)\n",
    "num_samples_test = len(test_data)\n",
    "print(\"Total number of train samples: %s\" % num_samples_train)\n",
    "print(\"Total number of test samples: %s\" % num_samples_test)"
   ]
  },
  {
   "cell_type": "code",
   "execution_count": 7,
   "metadata": {},
   "outputs": [],
   "source": [
    "ques1_train = train_data['question1'].tolist()\n",
    "ques2_train = train_data['question2'].tolist()\n",
    "labels_train = train_data['is_duplicate']\n",
    "\n",
    "ques1_test = test_data['question1'].tolist()\n",
    "ques2_test = test_data['question2'].tolist()"
   ]
  },
  {
   "cell_type": "code",
   "execution_count": 8,
   "metadata": {},
   "outputs": [
    {
     "name": "stdout",
     "output_type": "stream",
     "text": [
      "Found 137042 unique tokens.\n",
      "Number of sentences tokenizer was trained on: 5500172\n"
     ]
    }
   ],
   "source": [
    "texts = ques1_train + ques2_train + ques1_test + ques2_test\n",
    "tokenizer = text.Tokenizer()\n",
    "tokenizer.fit_on_texts(texts)\n",
    "sequences = tokenizer.texts_to_sequences(texts)\n",
    "word_index = tokenizer.word_index\n",
    "print('Found %s unique tokens.' % len(word_index))\n",
    "print('Number of sentences tokenizer was trained on: %s' % tokenizer.document_count)"
   ]
  },
  {
   "cell_type": "code",
   "execution_count": 9,
   "metadata": {},
   "outputs": [],
   "source": [
    "max_seq_len = 15\n",
    "data = pad_sequences(sequences, maxlen=max_seq_len)\n",
    "ques1_train = data[:num_samples_train]\n",
    "ques2_train = data[num_samples_train: 2*num_samples_train]\n",
    "ques1_test = data[2* num_samples_train: 2*num_samples_train + num_samples_test]\n",
    "ques2_test = data[2*num_samples_train + num_samples_test:]"
   ]
  },
  {
   "cell_type": "code",
   "execution_count": 10,
   "metadata": {},
   "outputs": [],
   "source": [
    "num_samples_train = len(train_data)\n",
    "num_samples_test = len(test_data)"
   ]
  },
  {
   "cell_type": "code",
   "execution_count": 11,
   "metadata": {},
   "outputs": [
    {
     "name": "stdout",
     "output_type": "stream",
     "text": [
      "Found 1917494 word vectors.\n"
     ]
    }
   ],
   "source": [
    "embeddings_index = {}\n",
    "f = open('glove.42B.300d.txt')\n",
    "for line in f:\n",
    "    values = line.split()\n",
    "    word = values[0]\n",
    "    coefs = np.asarray(values[1:], dtype='float32')\n",
    "    embeddings_index[word] = coefs\n",
    "f.close()\n",
    "print('Found %s word vectors.' % len(embeddings_index))\n"
   ]
  },
  {
   "cell_type": "code",
   "execution_count": 12,
   "metadata": {},
   "outputs": [],
   "source": [
    "EMBEDDING_DIM = 300\n",
    "embedding_matrix = np.zeros((len(word_index) + 1, EMBEDDING_DIM))\n",
    "for word, i in word_index.items():\n",
    "    embedding_vector = embeddings_index.get(word)\n",
    "    if embedding_vector is not None:\n",
    "        # words not found in embedding index will be all-zeros.\n",
    "        embedding_matrix[i] = embedding_vector\n",
    "\n",
    "embedding_layer = Embedding(len(word_index) + 1, \n",
    "                            EMBEDDING_DIM, \n",
    "                            weights=[embedding_matrix], \n",
    "                            input_length=max_seq_len, \n",
    "                            trainable=False)"
   ]
  },
  {
   "cell_type": "code",
   "execution_count": 13,
   "metadata": {},
   "outputs": [],
   "source": [
    "ques1_input = Input(shape=(max_seq_len,), dtype='int32')\n",
    "ques1_embedded = embedding_layer(ques1_input)\n",
    "ques1_output = LSTM(50)(ques1_embedded)\n",
    "\n",
    "ques2_input = Input(shape=(max_seq_len,), dtype='int32')\n",
    "ques2_embedded = embedding_layer(ques2_input)\n",
    "ques2_output = LSTM(50)(ques2_embedded)\n",
    "\n",
    "difference_tensor = Subtract()([ques1_output, ques2_output])\n",
    "predictions = Dense(1, activation='sigmoid')(difference_tensor)\n",
    "\n",
    "model = Model(inputs=[ques1_input, ques2_input], outputs=predictions)"
   ]
  },
  {
   "cell_type": "code",
   "execution_count": 14,
   "metadata": {},
   "outputs": [
    {
     "name": "stdout",
     "output_type": "stream",
     "text": [
      "Epoch 1/20\n",
      "404290/404290 [==============================] - 292s 723us/step - loss: 0.5251\n",
      "Epoch 2/20\n",
      "404290/404290 [==============================] - 284s 703us/step - loss: 0.4755\n",
      "Epoch 3/20\n",
      "404290/404290 [==============================] - 281s 694us/step - loss: 0.4449\n",
      "Epoch 4/20\n",
      "404290/404290 [==============================] - 281s 695us/step - loss: 0.4192\n",
      "Epoch 5/20\n",
      "404290/404290 [==============================] - 280s 693us/step - loss: 0.3972\n",
      "Epoch 6/20\n",
      "404290/404290 [==============================] - 281s 694us/step - loss: 0.3771\n",
      "Epoch 7/20\n",
      "404290/404290 [==============================] - 282s 697us/step - loss: 0.3596\n",
      "Epoch 8/20\n",
      "404290/404290 [==============================] - 283s 699us/step - loss: 0.3433\n",
      "Epoch 9/20\n",
      "404290/404290 [==============================] - 283s 699us/step - loss: 0.3289\n",
      "Epoch 10/20\n",
      "404290/404290 [==============================] - 282s 698us/step - loss: 0.3157\n",
      "Epoch 11/20\n",
      "404290/404290 [==============================] - 283s 700us/step - loss: 0.3038\n",
      "Epoch 12/20\n",
      "404290/404290 [==============================] - 283s 700us/step - loss: 0.2927\n",
      "Epoch 13/20\n",
      "404290/404290 [==============================] - 283s 699us/step - loss: 0.2829\n",
      "Epoch 14/20\n",
      "404290/404290 [==============================] - 283s 699us/step - loss: 0.2731\n",
      "Epoch 15/20\n",
      "404290/404290 [==============================] - 283s 700us/step - loss: 0.2645\n",
      "Epoch 16/20\n",
      "404290/404290 [==============================] - 283s 700us/step - loss: 0.2563\n",
      "Epoch 17/20\n",
      "404290/404290 [==============================] - 284s 702us/step - loss: 0.2485\n",
      "Epoch 18/20\n",
      "404290/404290 [==============================] - 284s 702us/step - loss: 0.2421\n",
      "Epoch 19/20\n",
      "404290/404290 [==============================] - 285s 705us/step - loss: 0.2354\n",
      "Epoch 20/20\n",
      "404290/404290 [==============================] - 284s 703us/step - loss: 0.2299\n"
     ]
    },
    {
     "data": {
      "text/plain": [
       "<keras.callbacks.History at 0x7f0f0c5ba710>"
      ]
     },
     "execution_count": 14,
     "metadata": {},
     "output_type": "execute_result"
    }
   ],
   "source": [
    "model.compile(optimizer='rmsprop', loss='binary_crossentropy')\n",
    "model.fit([ques1_train, ques2_train], np.array(labels_train), epochs=20)"
   ]
  },
  {
   "cell_type": "code",
   "execution_count": 15,
   "metadata": {},
   "outputs": [],
   "source": [
    "preds_test = model.predict([ques1_test, ques2_test])"
   ]
  },
  {
   "cell_type": "code",
   "execution_count": 16,
   "metadata": {},
   "outputs": [],
   "source": [
    "result_df = pd.DataFrame({'test_id': test_data['test_id'], 'is_duplicate':preds_test[:,0]}, \n",
    "                         columns=['test_id', 'is_duplicate'])\n",
    "result_df.to_csv('submissions.csv', header=['test_id', 'is_duplicate'], index=False)"
   ]
  },
  {
   "cell_type": "code",
   "execution_count": null,
   "metadata": {},
   "outputs": [],
   "source": []
  }
 ],
 "metadata": {
  "kernelspec": {
   "display_name": "Python 3",
   "language": "python",
   "name": "python3"
  },
  "language_info": {
   "codemirror_mode": {
    "name": "ipython",
    "version": 3
   },
   "file_extension": ".py",
   "mimetype": "text/x-python",
   "name": "python",
   "nbconvert_exporter": "python",
   "pygments_lexer": "ipython3",
   "version": "3.6.3"
  }
 },
 "nbformat": 4,
 "nbformat_minor": 2
}
