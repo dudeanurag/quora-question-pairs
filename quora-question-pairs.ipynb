{
 "cells": [
  {
   "cell_type": "code",
   "execution_count": 1,
   "metadata": {},
   "outputs": [
    {
     "name": "stderr",
     "output_type": "stream",
     "text": [
      "Using TensorFlow backend.\n"
     ]
    }
   ],
   "source": [
    "import pandas as pd\n",
    "import numpy as np\n",
    "import keras\n",
    "from keras.layers import Embedding, Input, LSTM, Dense, Subtract\n",
    "from keras.models import Model\n",
    "from keras.preprocessing import text\n",
    "from keras.preprocessing.sequence import pad_sequences"
   ]
  },
  {
   "cell_type": "code",
   "execution_count": 2,
   "metadata": {},
   "outputs": [],
   "source": [
    "train_data = pd.read_csv('train.csv')\n",
    "test_data = pd.read_csv('test.csv')"
   ]
  },
  {
   "cell_type": "code",
   "execution_count": 4,
   "metadata": {},
   "outputs": [
    {
     "data": {
      "text/html": [
       "<div>\n",
       "<style scoped>\n",
       "    .dataframe tbody tr th:only-of-type {\n",
       "        vertical-align: middle;\n",
       "    }\n",
       "\n",
       "    .dataframe tbody tr th {\n",
       "        vertical-align: top;\n",
       "    }\n",
       "\n",
       "    .dataframe thead th {\n",
       "        text-align: right;\n",
       "    }\n",
       "</style>\n",
       "<table border=\"1\" class=\"dataframe\">\n",
       "  <thead>\n",
       "    <tr style=\"text-align: right;\">\n",
       "      <th></th>\n",
       "      <th>id</th>\n",
       "      <th>qid1</th>\n",
       "      <th>qid2</th>\n",
       "      <th>question1</th>\n",
       "      <th>question2</th>\n",
       "      <th>is_duplicate</th>\n",
       "    </tr>\n",
       "  </thead>\n",
       "  <tbody>\n",
       "    <tr>\n",
       "      <th>105780</th>\n",
       "      <td>105780</td>\n",
       "      <td>174363</td>\n",
       "      <td>174364</td>\n",
       "      <td>How can I develop android app?</td>\n",
       "      <td>NaN</td>\n",
       "      <td>0</td>\n",
       "    </tr>\n",
       "    <tr>\n",
       "      <th>201841</th>\n",
       "      <td>201841</td>\n",
       "      <td>303951</td>\n",
       "      <td>174364</td>\n",
       "      <td>How can I create an Android app?</td>\n",
       "      <td>NaN</td>\n",
       "      <td>0</td>\n",
       "    </tr>\n",
       "    <tr>\n",
       "      <th>363362</th>\n",
       "      <td>363362</td>\n",
       "      <td>493340</td>\n",
       "      <td>493341</td>\n",
       "      <td>NaN</td>\n",
       "      <td>My Chinese name is Haichao Yu. What English na...</td>\n",
       "      <td>0</td>\n",
       "    </tr>\n",
       "  </tbody>\n",
       "</table>\n",
       "</div>"
      ],
      "text/plain": [
       "            id    qid1    qid2                         question1  \\\n",
       "105780  105780  174363  174364    How can I develop android app?   \n",
       "201841  201841  303951  174364  How can I create an Android app?   \n",
       "363362  363362  493340  493341                               NaN   \n",
       "\n",
       "                                                question2  is_duplicate  \n",
       "105780                                                NaN             0  \n",
       "201841                                                NaN             0  \n",
       "363362  My Chinese name is Haichao Yu. What English na...             0  "
      ]
     },
     "execution_count": 4,
     "metadata": {},
     "output_type": "execute_result"
    }
   ],
   "source": [
    "train_data[train_data.isnull().any(axis=1)]"
   ]
  },
  {
   "cell_type": "code",
   "execution_count": 5,
   "metadata": {},
   "outputs": [],
   "source": [
    "train_data = train_data.drop(train_data.index[[105780, 201841, 363362]])"
   ]
  },
  {
   "cell_type": "code",
   "execution_count": 6,
   "metadata": {},
   "outputs": [
    {
     "data": {
      "text/html": [
       "<div>\n",
       "<style scoped>\n",
       "    .dataframe tbody tr th:only-of-type {\n",
       "        vertical-align: middle;\n",
       "    }\n",
       "\n",
       "    .dataframe tbody tr th {\n",
       "        vertical-align: top;\n",
       "    }\n",
       "\n",
       "    .dataframe thead th {\n",
       "        text-align: right;\n",
       "    }\n",
       "</style>\n",
       "<table border=\"1\" class=\"dataframe\">\n",
       "  <thead>\n",
       "    <tr style=\"text-align: right;\">\n",
       "      <th></th>\n",
       "      <th>test_id</th>\n",
       "      <th>question1</th>\n",
       "      <th>question2</th>\n",
       "    </tr>\n",
       "  </thead>\n",
       "  <tbody>\n",
       "    <tr>\n",
       "      <th>379205</th>\n",
       "      <td>379205</td>\n",
       "      <td>How I can learn android app development?</td>\n",
       "      <td>NaN</td>\n",
       "    </tr>\n",
       "    <tr>\n",
       "      <th>817520</th>\n",
       "      <td>817520</td>\n",
       "      <td>How real can learn android app development?</td>\n",
       "      <td>NaN</td>\n",
       "    </tr>\n",
       "    <tr>\n",
       "      <th>943911</th>\n",
       "      <td>943911</td>\n",
       "      <td>How app development?</td>\n",
       "      <td>NaN</td>\n",
       "    </tr>\n",
       "    <tr>\n",
       "      <th>1046690</th>\n",
       "      <td>1046690</td>\n",
       "      <td>NaN</td>\n",
       "      <td>How I what can learn android app development?</td>\n",
       "    </tr>\n",
       "    <tr>\n",
       "      <th>1270024</th>\n",
       "      <td>1270024</td>\n",
       "      <td>How I can learn app development?</td>\n",
       "      <td>NaN</td>\n",
       "    </tr>\n",
       "    <tr>\n",
       "      <th>1461432</th>\n",
       "      <td>1461432</td>\n",
       "      <td>NaN</td>\n",
       "      <td>How distinct can learn android app development?</td>\n",
       "    </tr>\n",
       "  </tbody>\n",
       "</table>\n",
       "</div>"
      ],
      "text/plain": [
       "         test_id                                    question1  \\\n",
       "379205    379205     How I can learn android app development?   \n",
       "817520    817520  How real can learn android app development?   \n",
       "943911    943911                         How app development?   \n",
       "1046690  1046690                                          NaN   \n",
       "1270024  1270024             How I can learn app development?   \n",
       "1461432  1461432                                          NaN   \n",
       "\n",
       "                                               question2  \n",
       "379205                                               NaN  \n",
       "817520                                               NaN  \n",
       "943911                                               NaN  \n",
       "1046690    How I what can learn android app development?  \n",
       "1270024                                              NaN  \n",
       "1461432  How distinct can learn android app development?  "
      ]
     },
     "execution_count": 6,
     "metadata": {},
     "output_type": "execute_result"
    }
   ],
   "source": [
    "test_data[test_data.isnull().any(axis=1)]"
   ]
  },
  {
   "cell_type": "code",
   "execution_count": 7,
   "metadata": {},
   "outputs": [],
   "source": [
    "test_data = test_data.drop(test_data.index[[379205, 817520, 943911, 1046690, 1270024, 1461432]])"
   ]
  },
  {
   "cell_type": "code",
   "execution_count": 8,
   "metadata": {},
   "outputs": [
    {
     "name": "stdout",
     "output_type": "stream",
     "text": [
      "Total number of valid train samples: 404287\n"
     ]
    }
   ],
   "source": [
    "ques1_train = train_data['question1'].tolist()\n",
    "ques2_train = train_data['question2'].tolist()\n",
    "labels_train = train_data['is_duplicate']\n",
    "num_samples_train = len(ques1_train)\n",
    "print(\"Total number of valid train samples: %s\" % num_samples_train)"
   ]
  },
  {
   "cell_type": "code",
   "execution_count": 9,
   "metadata": {},
   "outputs": [
    {
     "name": "stdout",
     "output_type": "stream",
     "text": [
      "Total number of valid test samples: 2345790\n"
     ]
    }
   ],
   "source": [
    "ques1_test = test_data['question1'].tolist()\n",
    "ques2_test = test_data['question2'].tolist()\n",
    "num_samples_test = len(ques1_test)\n",
    "print(\"Total number of valid test samples: %s\" % num_samples_test)"
   ]
  },
  {
   "cell_type": "code",
   "execution_count": 10,
   "metadata": {},
   "outputs": [
    {
     "name": "stdout",
     "output_type": "stream",
     "text": [
      "Found 137041 unique tokens.\n",
      "Number of sentences tokenizer was trained on: 5500154\n"
     ]
    }
   ],
   "source": [
    "texts = ques1_train + ques2_train + ques1_test + ques2_test\n",
    "tokenizer = text.Tokenizer()\n",
    "tokenizer.fit_on_texts(texts)\n",
    "sequences = tokenizer.texts_to_sequences(texts)\n",
    "\n",
    "word_index = tokenizer.word_index\n",
    "print('Found %s unique tokens.' % len(word_index))\n",
    "print('Number of sentences tokenizer was trained on: %s' % tokenizer.document_count)"
   ]
  },
  {
   "cell_type": "code",
   "execution_count": 11,
   "metadata": {},
   "outputs": [],
   "source": [
    "max_seq_len = 15\n",
    "data = pad_sequences(sequences, maxlen=max_seq_len)\n",
    "ques1_train = data[:num_samples_train]\n",
    "ques2_train = data[num_samples_train: 2*num_samples_train]\n",
    "ques1_test = data[2* num_samples_train: 2*num_samples_train + num_samples_test]\n",
    "ques2_test = data[2*num_samples_train + num_samples_test:]"
   ]
  },
  {
   "cell_type": "code",
   "execution_count": 12,
   "metadata": {},
   "outputs": [
    {
     "name": "stdout",
     "output_type": "stream",
     "text": [
      "Found 1917494 word vectors.\n"
     ]
    }
   ],
   "source": [
    "embeddings_index = {}\n",
    "f = open('glove.42B.300d.txt')\n",
    "for line in f:\n",
    "    values = line.split()\n",
    "    word = values[0]\n",
    "    coefs = np.asarray(values[1:], dtype='float32')\n",
    "    embeddings_index[word] = coefs\n",
    "f.close()\n",
    "print('Found %s word vectors.' % len(embeddings_index))\n"
   ]
  },
  {
   "cell_type": "code",
   "execution_count": 13,
   "metadata": {},
   "outputs": [],
   "source": [
    "EMBEDDING_DIM = 300\n",
    "embedding_matrix = np.zeros((len(word_index) + 1, EMBEDDING_DIM))\n",
    "for word, i in word_index.items():\n",
    "    embedding_vector = embeddings_index.get(word)\n",
    "    if embedding_vector is not None:\n",
    "        # words not found in embedding index will be all-zeros.\n",
    "        embedding_matrix[i] = embedding_vector\n",
    "\n",
    "embedding_layer = Embedding(len(word_index) + 1, \n",
    "                            EMBEDDING_DIM, \n",
    "                            weights=[embedding_matrix], \n",
    "                            input_length=max_seq_len, \n",
    "                            trainable=False)"
   ]
  },
  {
   "cell_type": "code",
   "execution_count": 14,
   "metadata": {},
   "outputs": [],
   "source": [
    "ques1_input = Input(shape=(max_seq_len,), dtype='int32')\n",
    "ques1_embedded = embedding_layer(ques1_input)\n",
    "ques1_output = LSTM(50)(ques1_embedded)\n",
    "\n",
    "ques2_input = Input(shape=(max_seq_len,), dtype='int32')\n",
    "ques2_embedded = embedding_layer(ques2_input)\n",
    "ques2_output = LSTM(50)(ques2_embedded)\n",
    "\n",
    "difference_tensor = Subtract()([ques1_output, ques2_output])\n",
    "predictions = Dense(1, activation='sigmoid')(difference_tensor)\n",
    "\n",
    "model = Model(inputs=[ques1_input, ques2_input], outputs=predictions)"
   ]
  },
  {
   "cell_type": "code",
   "execution_count": 15,
   "metadata": {},
   "outputs": [
    {
     "name": "stdout",
     "output_type": "stream",
     "text": [
      "Epoch 1/20\n",
      "404287/404287 [==============================] - 285s 704us/step - loss: 0.5238\n",
      "Epoch 2/20\n",
      "404287/404287 [==============================] - 279s 690us/step - loss: 0.4736s - - ETA: 0s - loss: \n",
      "Epoch 3/20\n",
      "404287/404287 [==============================] - 280s 693us/step - loss: 0.4431\n",
      "Epoch 4/20\n",
      "404287/404287 [==============================] - 285s 704us/step - loss: 0.4175\n",
      "Epoch 5/20\n",
      "404287/404287 [==============================] - 281s 695us/step - loss: 0.3951\n",
      "Epoch 6/20\n",
      "404287/404287 [==============================] - 285s 705us/step - loss: 0.3750\n",
      "Epoch 7/20\n",
      "404287/404287 [==============================] - 283s 700us/step - loss: 0.3572\n",
      "Epoch 8/20\n",
      "404287/404287 [==============================] - 302s 748us/step - loss: 0.3402\n",
      "Epoch 9/20\n",
      "404287/404287 [==============================] - 287s 711us/step - loss: 0.3259s - loss: 0.32 - ETA: 2s - loss\n",
      "Epoch 10/20\n",
      "404287/404287 [==============================] - 284s 702us/step - loss: 0.3126\n",
      "Epoch 11/20\n",
      "404287/404287 [==============================] - 285s 704us/step - loss: 0.3002s - \n",
      "Epoch 12/20\n",
      "404287/404287 [==============================] - 287s 710us/step - loss: 0.2897\n",
      "Epoch 13/20\n",
      "404287/404287 [==============================] - 293s 726us/step - loss: 0.2795\n",
      "Epoch 14/20\n",
      "404287/404287 [==============================] - 291s 719us/step - loss: 0.2703\n",
      "Epoch 15/20\n",
      "404287/404287 [==============================] - 288s 713us/step - loss: 0.2619\n",
      "Epoch 16/20\n",
      "404287/404287 [==============================] - 289s 714us/step - loss: 0.2539\n",
      "Epoch 17/20\n",
      "404287/404287 [==============================] - 284s 702us/step - loss: 0.2466\n",
      "Epoch 18/20\n",
      "404287/404287 [==============================] - 283s 699us/step - loss: 0.2395\n",
      "Epoch 19/20\n",
      "404287/404287 [==============================] - 283s 700us/step - loss: 0.2332\n",
      "Epoch 20/20\n",
      "404287/404287 [==============================] - 283s 701us/step - loss: 0.2276\n"
     ]
    },
    {
     "data": {
      "text/plain": [
       "<keras.callbacks.History at 0x7f1cb7ada588>"
      ]
     },
     "execution_count": 15,
     "metadata": {},
     "output_type": "execute_result"
    }
   ],
   "source": [
    "model.compile(optimizer='rmsprop', loss='binary_crossentropy')\n",
    "model.fit([ques1_train, ques2_train], np.array(labels_train), epochs=20)"
   ]
  },
  {
   "cell_type": "code",
   "execution_count": 17,
   "metadata": {},
   "outputs": [],
   "source": [
    "preds_test = model.predict([ques1_test, ques2_test])"
   ]
  },
  {
   "cell_type": "code",
   "execution_count": 20,
   "metadata": {},
   "outputs": [
    {
     "name": "stdout",
     "output_type": "stream",
     "text": [
      "(2345790,)\n"
     ]
    }
   ],
   "source": [
    "print(preds_test[:,0].shape)"
   ]
  },
  {
   "cell_type": "code",
   "execution_count": 22,
   "metadata": {},
   "outputs": [],
   "source": [
    "result_df = pd.DataFrame({'test_id': test_data['test_id'], 'is_duplicate':preds_test[:,0]}, \n",
    "                         columns=['test_id', 'is_duplicate'])\n",
    "result_df.to_csv('submissions.csv', header=['test_id', 'is_duplicate'], index=False)"
   ]
  },
  {
   "cell_type": "code",
   "execution_count": null,
   "metadata": {},
   "outputs": [],
   "source": []
  }
 ],
 "metadata": {
  "kernelspec": {
   "display_name": "Python 3",
   "language": "python",
   "name": "python3"
  },
  "language_info": {
   "codemirror_mode": {
    "name": "ipython",
    "version": 3
   },
   "file_extension": ".py",
   "mimetype": "text/x-python",
   "name": "python",
   "nbconvert_exporter": "python",
   "pygments_lexer": "ipython3",
   "version": "3.6.3"
  }
 },
 "nbformat": 4,
 "nbformat_minor": 2
}
